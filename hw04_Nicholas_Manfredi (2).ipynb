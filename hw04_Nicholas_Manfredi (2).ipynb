{
 "cells": [
  {
   "cell_type": "markdown",
   "metadata": {},
   "source": [
    "<h1> Homework 04 </h1>\n",
    "\n",
    "<h3> Due Tue, March 5, 11:59pm </h3> \n",
    "\n",
    "Download the .ipynb file for this notebook, and place your solutions where indicated (you can make more cells for each problem), keeping the original problem descriptions.  Upload only one file, which contains all your work; it should be named \"HW04_firstname_lastname\".  Please include comments in your code; this can also help you get partial credit if your code doesn't work.\n",
    "\n",
    "Then upload it to Blackboard under the Assignments tab. See Collaboration Policy in Homework section of course webpage (it's the same as it was for previous homeworks).  "
   ]
  },
  {
   "cell_type": "markdown",
   "metadata": {},
   "source": [
    "<h3> Problem 1 </h3>\n",
    "\n",
    "(a) Write a function <samp>num_primes_mod(n,a,b)</samp> that computes the number of primes $p$ less than $n$ with $p\\equiv a \\bmod b$.  For instance <samp>num_primes_mod(10,1,4)</samp> is $1$, since $5$ is the only prime less than $10$ that is congruent to $1 \\bmod 4$.  You can use any builtin functions, including <samp>next_prime</samp>.   \n",
    "    \n",
    "(b) Use your function to compute:\n",
    "<samp> num_primes_mod(100,1,4), num_primes_mod(100,3,4), num_primes_mod(10^5,1,4), num_primes_mod(10^5,3,4)</samp>.\n",
    "\n",
    "(c) What pattern do you notice in (b)?  Make a conjecture based on this pattern.  \n",
    "    "
   ]
  },
  {
   "cell_type": "code",
   "execution_count": 1,
   "metadata": {},
   "outputs": [
    {
     "name": "stdout",
     "output_type": "stream",
     "text": [
      "1\n",
      "12\n",
      "13\n",
      "4783\n",
      "4809\n"
     ]
    }
   ],
   "source": [
    "import sympy\n",
    "\n",
    "def num_primes_mod(n, a, b):\n",
    "    count = 0\n",
    "    prime = 1\n",
    "    \n",
    "    while prime < n:\n",
    "        prime = sympy.nextprime(prime)\n",
    "        if prime % b == a:\n",
    "            count += 1\n",
    "    return count\n",
    "        \n",
    "print num_primes_mod(10,1,4)\n",
    "print num_primes_mod(100,1,4)\n",
    "print num_primes_mod(100,3,4)\n",
    "print num_primes_mod(10^5,1,4)\n",
    "print num_primes_mod(10^5,3,4)"
   ]
  },
  {
   "cell_type": "markdown",
   "metadata": {},
   "source": [
    "<h3> Problem 2 </h3>\n",
    "\n",
    "Suppose that Alice and Bob are engaged in key-exchange using the Diffie-Helmann algorithm.  Alice uses a secret number $a$, and Bob uses a secret number $b.$  Eve knows neither $a$ nor $b$.  Alice and Bob choose the prime $p=503$ and the fixed number $3$ for their exchange; Eve knows both of these pieces of information. Alice then sends Bob \n",
    "$$3^a \\verb+ % + 503 = 141$$\n",
    "and Bob sends Alice \n",
    "$$3^b \\verb+ % + 503 = 268.$$\n",
    "This communication is done over a public channel, so Eve knows both of the above numbers.  Both Alice and Bob can then compute the shared secret $3^{ab} \\verb+ % + 503$ by exponentiation, using their secret numbers.  \n",
    "\n",
    "You are Eve.  Find their shared secret $3^{ab} \\verb+ % + 503.$\n",
    "\n",
    "(This problem demonstrates that Diffie-Helmann can be broken if the prime $p$ is too small.)"
   ]
  },
  {
   "cell_type": "code",
   "execution_count": 3,
   "metadata": {},
   "outputs": [
    {
     "name": "stdout",
     "output_type": "stream",
     "text": [
      "89\n",
      "44\n"
     ]
    }
   ],
   "source": [
    "import math\n",
    "import random\n",
    "global prime, root\n",
    "\n",
    "prime = 503\n",
    "base = 3\n",
    "\n",
    "def secretkey():\n",
    "    secret = int(random.randint(0,100))\n",
    "    return secret\n",
    "\n",
    "a = secretkey()\n",
    "b = secretkey()\n",
    "\n",
    "aPublicChannel = (base ** a) % prime\n",
    "bPublicChannel = (base ** b) % prime\n",
    "\n",
    "aKey = (bPublicChannel ** a) % prime\n",
    "bKey = (aPublicChannel ** b) % prime\n",
    "\n",
    "print a\n",
    "print b\n"
   ]
  },
  {
   "cell_type": "markdown",
   "metadata": {},
   "source": [
    "<h3> Problem 3 </h3> \n",
    "\n",
    "(a) A <i>twin prime</i> is a prime $p$ such that $p+2$ is also prime.  Write a function <samp>num_twin_primes(n)</samp> that computes the number of twin primes less than $n$.  For example <samp>num_twin_primes(10)</samp> is $2$  since $3,5$ are the twin primes less than $10$. You can use builtin functions such as <samp> next_prime</samp> and <samp>is_prime</samp>.  \n",
    "\n",
    "(b) Compute <samp>num_twin_primes(10^2), num_twin_primes(10^4), num_twin_primes(10^5). </samp>\n",
    "\n",
    "(c) Based on your experiments, make a guess about the behavior of the ratio <samp>num_twin_primes(n)/n</samp> as $n\\to\\infty$. "
   ]
  },
  {
   "cell_type": "code",
   "execution_count": 13,
   "metadata": {},
   "outputs": [
    {
     "name": "stdout",
     "output_type": "stream",
     "text": [
      "2\n",
      "8\n",
      "205\n",
      "1224\n"
     ]
    }
   ],
   "source": [
    "import math\n",
    "\n",
    "def primeNum(n):\n",
    "    for i in range(2, n):\n",
    "        if(n % i == 0):\n",
    "            return False;\n",
    "    return True;\n",
    "    \n",
    "def num_twin_primes(n):\n",
    "    count = 0;\n",
    "    for i in range(2, n + 1):\n",
    "        if(primeNum(i) and primeNum(i + 2)):\n",
    "            count = count + 1\n",
    "    return count\n",
    "\n",
    "print num_twin_primes(10)\n",
    "print num_twin_primes(10^2)\n",
    "print num_twin_primes(10^4)\n",
    "print num_twin_primes(10^5)\n",
    "\n",
    "##The behavior of the ratio would approach zero as n approaches infinity. "
   ]
  },
  {
   "cell_type": "markdown",
   "metadata": {},
   "source": [
    "<h3> Problem 4 </h3>\n",
    "\n",
    "(a) Write a function <samp>is_sum_squares(n)</samp> that returns <samp>True</samp> if $n$ can be written as $a^2+b^2$, where $a,b$ are integers, and <samp>False</samp> otherwise.  For example <samp>is_sum_squares(5)</samp> is <samp>True</samp> since $5=1^2+2^2$, while <samp>is_sum_squares(3)</samp> is <samp>False</samp>. \n",
    "\n",
    "(b) Compute <samp>is_sum_squares(7)</samp>, <samp>is_sum_squares(11)</samp>, <samp>is_sum_squares(13)</samp>, <samp>is_sum_squares(17)</samp>, <samp>is_sum_squares(19)</samp>, <samp>is_sum_squares(23)</samp>.\n",
    "\n",
    "(c) What is the pattern for <samp>is_sum_squares(p)</samp> when $p$ is prime.  (HINT: look at $p \\verb + % + 4$.)"
   ]
  },
  {
   "cell_type": "code",
   "execution_count": 23,
   "metadata": {},
   "outputs": [
    {
     "name": "stdout",
     "output_type": "stream",
     "text": [
      "False\n",
      "True\n",
      "False\n",
      "False\n",
      "True\n",
      "True\n",
      "False\n",
      "False\n",
      "False\n"
     ]
    }
   ],
   "source": [
    "def is_sum_squares(n):\n",
    "    for p in range(1, n + 1):\n",
    "        for q in range(1, n + 1):\n",
    "            if p ** 2 + q ** 2 == n:\n",
    "                return True\n",
    "    return False\n",
    "\n",
    "print is_sum_squares(3) ##Test\n",
    "print is_sum_squares(5) ##Test\n",
    "print is_sum_squares(7)\n",
    "print is_sum_squares(11)\n",
    "print is_sum_squares(13)\n",
    "print is_sum_squares(17)\n",
    "print is_sum_squares(19)\n",
    "print is_sum_squares(23)\n",
    "print is_sum_squares(4)\n",
    "\n",
    "##When p is prime: The Product of two numbers, each of which is a sum of two\n",
    "## Squares, itself is a sum of two squares. If a number which is a sum of two \n",
    "## Squares is divisible by a prime which is a sum of two squares, then the \n",
    "## Quotient is a sum of two squares. This is known as Eulers First Proposition"
   ]
  },
  {
   "cell_type": "code",
   "execution_count": null,
   "metadata": {},
   "outputs": [],
   "source": []
  }
 ],
 "metadata": {
  "kernelspec": {
   "display_name": "SageMath 8.6",
   "language": "",
   "name": "sagemath"
  },
  "language_info": {
   "codemirror_mode": {
    "name": "ipython",
    "version": 2
   },
   "file_extension": ".py",
   "mimetype": "text/x-python",
   "name": "python",
   "nbconvert_exporter": "python",
   "pygments_lexer": "ipython2",
   "version": "2.7.15"
  }
 },
 "nbformat": 4,
 "nbformat_minor": 2
}
